{
 "cells": [
  {
   "cell_type": "markdown",
   "metadata": {
    "slideshow": {
     "slide_type": "slide"
    }
   },
   "source": [
    "## Construir las imagenes"
   ]
  },
  {
   "cell_type": "markdown",
   "metadata": {
    "slideshow": {
     "slide_type": "slide"
    }
   },
   "source": [
    "Antes de poder crear un contenedor docker en el cual trabajaremos debemos construir una imagen. Una imagen corresponde de cierta forma a la \"receta\" desde la cual se instanciara nuestro contenedor.\n",
    "\n",
    "- __*Descargar Dockerfiles (Github)*__\n",
    "\n",
    "Desde tu folder de trabajo (~/platzi-ml/):\n",
    "\n",
    "```shell\n",
    "[~/platzi-ml] $ git clone https://github.com/JuanPabloMF/arara-docker-stacks.git \n",
    "```"
   ]
  },
  {
   "cell_type": "markdown",
   "metadata": {
    "slideshow": {
     "slide_type": "slide"
    }
   },
   "source": [
    "- __*Crear Imagenes*__\n",
    "\n",
    "```shell\n",
    "[~/platzi-ml] $ cd arara-docker-stacks/ararads-base\n",
    "[~/platzi-ml/arara-docker-stacks/ararads-base] $ sudo docker build -t ararads-base:1.0 .\n",
    "[~/platzi-ml/arara-docker-stacks/ararads-base] $ cd ../ararads-tf-cpu\n",
    "[~/platzi-ml/arara-docker-stacks/ararads-tf-cpu] $ sudo docker build -t ararads-tf-cpu:1.0 .\n",
    "```"
   ]
  }
 ],
 "metadata": {
  "celltoolbar": "Slideshow",
  "kernelspec": {
   "display_name": "Python 3",
   "language": "python",
   "name": "python3"
  },
  "language_info": {
   "codemirror_mode": {
    "name": "ipython",
    "version": 3
   },
   "file_extension": ".py",
   "mimetype": "text/x-python",
   "name": "python",
   "nbconvert_exporter": "python",
   "pygments_lexer": "ipython3",
   "version": "3.5.2"
  }
 },
 "nbformat": 4,
 "nbformat_minor": 2
}
