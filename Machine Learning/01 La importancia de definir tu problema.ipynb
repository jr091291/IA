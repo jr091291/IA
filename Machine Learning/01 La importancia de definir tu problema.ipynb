{
 "cells": [
  {
   "cell_type": "markdown",
   "metadata": {
    "slideshow": {
     "slide_type": "slide"
    }
   },
   "source": [
    "# Curso de Machine Learning Aplicado con scikit-learn\n",
    "\n",
    "---\n",
    "*Juan Pablo Morales, CTO and Founder, Arara*\n",
    "\n",
    "\n",
    "<img src=\"img/imdb.png\" width=\"1000\" style=\"margin:0 auto;clear:both\">\n",
    "\n",
    "\n",
    "\n",
    "<img src=\"img/platzi_logo.png\" align=\"right\">\n"
   ]
  },
  {
   "cell_type": "markdown",
   "metadata": {
    "slideshow": {
     "slide_type": "slide"
    }
   },
   "source": [
    "## Por qué es tan importante definir el problema?"
   ]
  },
  {
   "cell_type": "markdown",
   "metadata": {
    "slideshow": {
     "slide_type": "slide"
    }
   },
   "source": [
    "Errores comúnes:\n",
    "- _No tienes problemas por resolver_\n",
    "- _Existian soluciones más simples_\n",
    "- _No puedes medir el impacto de tu modelo_\n",
    "- _No sabes si el problema ya ha sido resuelto_\n",
    "- _El problema era imposible de resolver_\n",
    "\n",
    "-> Definir **UN PROBLEMA REAL** de tu empresa o aplicación, de forma clara y precisa, para saber si corresponde atacarlo con Machine Learning"
   ]
  },
  {
   "cell_type": "markdown",
   "metadata": {
    "slideshow": {
     "slide_type": "slide"
    }
   },
   "source": [
    "## Preguntas clave por responder"
   ]
  },
  {
   "cell_type": "markdown",
   "metadata": {
    "slideshow": {
     "slide_type": "slide"
    }
   },
   "source": [
    "##### Reconoce el tipo de aprendizaje que necesitas\n",
    "\n",
    "1. Qué beneficio piensas generar y para quién?\n",
    "\n",
    "2. Cuál de los siguientes funcionalidades te sería más útil para lograr ese objetivo:\n",
    "  1. Predecir alguna métrica                 \n",
    "  2. Predecir una etiqueta                   \n",
    "  3. Agrupar elementos similares             \n",
    "  4. Optimizar un proceso con prueba y error \n",
    "  \n",
    "Los dos primeros corresponden a **Aprendizaje supervisado**. Nos enfocaremos en este ya que es el que está teniendo más impacto en la industria (cf. Andrew NG)."
   ]
  },
  {
   "cell_type": "markdown",
   "metadata": {
    "slideshow": {
     "slide_type": "slide"
    }
   },
   "source": [
    "##### Aterriza tu problema de aprendizaje supervisado\n",
    "\n",
    "1. Lo que quieres predecir es un valor de qué tipo?\n",
    "  1. Continuo \n",
    "  2. Discreto \n",
    "2. Cuál es tu definición de éxito de una predicción?\n",
    "3. Con qué datos contarías para hacer esta predicción?\n",
    "4. La pregunta que estás tratando de resolver pertenece a alguna disciplina en particular?\n",
    "5. Considerando tu intuición en la disciplina, crees que los datos te permitan predecir tu objetivo?"
   ]
  }
 ],
 "metadata": {
  "celltoolbar": "Slideshow",
  "kernelspec": {
   "display_name": "Python 3",
   "language": "python",
   "name": "python3"
  },
  "language_info": {
   "codemirror_mode": {
    "name": "ipython",
    "version": 3
   },
   "file_extension": ".py",
   "mimetype": "text/x-python",
   "name": "python",
   "nbconvert_exporter": "python",
   "pygments_lexer": "ipython3",
   "version": "3.7.6"
  },
  "latex_envs": {
   "LaTeX_envs_menu_present": true,
   "autocomplete": true,
   "bibliofile": "biblio.bib",
   "cite_by": "apalike",
   "current_citInitial": 1,
   "eqLabelWithNumbers": true,
   "eqNumInitial": 1,
   "hotkeys": {
    "equation": "Ctrl-E",
    "itemize": "Ctrl-I"
   },
   "labels_anchors": false,
   "latex_user_defs": false,
   "report_style_numbering": false,
   "user_envs_cfg": false
  }
 },
 "nbformat": 4,
 "nbformat_minor": 2
}
