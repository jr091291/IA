{
 "cells": [
  {
   "cell_type": "markdown",
   "metadata": {
    "slideshow": {
     "slide_type": "slide"
    }
   },
   "source": [
    "## Instanciar el contenedor"
   ]
  },
  {
   "cell_type": "markdown",
   "metadata": {
    "slideshow": {
     "slide_type": "slide"
    }
   },
   "source": [
    "- __*Crear folder que sera montado en tus contenedores Docker*__\n",
    "\n",
    "```shell\n",
    "[~/platzi-ml] $ mkdir vol \n",
    "```\n",
    "<div class=\"alert alert-block alert-info\" style=\"margin-top: 20px\"> <strong> Importante: </strong>En este folder es donde deberas descargar/copiar tus datasets para que puedas verlos en el contenedor que estes trabajando. </div>"
   ]
  },
  {
   "cell_type": "markdown",
   "metadata": {
    "slideshow": {
     "slide_type": "slide"
    }
   },
   "source": [
    "```shell\n",
    " $ sudo docker run -ti --name platzi-ml -v ~/platzi-ml/vol:/home/juanpablo/work/vol -p 9000:8888 ararads-tf-cpu:1.0 start-notebook.sh --NotebookApp.token=''\n",
    "```\n",
    "\n",
    "Con esto solo quedaria acceder desde chrome a http://localhost:9000/ y estamos listos para trabajar!"
   ]
  },
  {
   "cell_type": "markdown",
   "metadata": {
    "slideshow": {
     "slide_type": "slide"
    }
   },
   "source": [
    "<div class=\"alert alert-block alert-info\" style=\"margin-top: 20px\"> <strong>Notas</strong> <br> <strong>-v</strong> es una opcion que permite conectar un archivo que tengas en tu computador con un archivo que estara en tu contenedor. Esto es bueno para poder ingresar datos facilmente a tu contenedor, o extraerlos de forma ordenada <br>\n",
    "<strong>-p</strong> te permite exponer un puerto interno del computador a traves de un puerto de tu maquina local. En terminos simples por aqui es donde accederas a tu jupyter. <br>\n",
    "Las imagenes que construimos inicializan automaticamente un Jupyter que queda esperando en su puerto."
   ]
  }
 ],
 "metadata": {
  "celltoolbar": "Slideshow",
  "kernelspec": {
   "display_name": "Python 3",
   "language": "python",
   "name": "python3"
  },
  "language_info": {
   "codemirror_mode": {
    "name": "ipython",
    "version": 3
   },
   "file_extension": ".py",
   "mimetype": "text/x-python",
   "name": "python",
   "nbconvert_exporter": "python",
   "pygments_lexer": "ipython3",
   "version": "3.6.0"
  },
  "latex_envs": {
   "LaTeX_envs_menu_present": true,
   "autocomplete": true,
   "bibliofile": "biblio.bib",
   "cite_by": "apalike",
   "current_citInitial": 1,
   "eqLabelWithNumbers": true,
   "eqNumInitial": 1,
   "hotkeys": {
    "equation": "Ctrl-E",
    "itemize": "Ctrl-I"
   },
   "labels_anchors": false,
   "latex_user_defs": false,
   "report_style_numbering": false,
   "user_envs_cfg": false
  }
 },
 "nbformat": 4,
 "nbformat_minor": 2
}
