{
 "cells": [
  {
   "cell_type": "markdown",
   "metadata": {},
   "source": [
    "<div class=\"alert alert-success\">\n",
    "  Mejorar la performance de nuestros modelos no solo pasa por optimizar sus parametros. \n",
    "  <br>Una de las partes clave, y según algunos expertos la más importante, es la de **diseñar la representación en la que se entregan los datos a los modelos** para que estos los procesen. <br>\n",
    "  Esto equivale, en palabras más simples, en definir de forma inteligente las features (columnas) de nuestras tablas de datos.\n",
    "            </div>"
   ]
  },
  {
   "cell_type": "markdown",
   "metadata": {},
   "source": [
    "**Ejemplo de feature engineering:**\n",
    "\n",
    "*El problema*:\n",
    "    \n",
    "Supongamos que estamos tratando de resolver el problema siguiente.\n",
    "\n",
    "- Tenemos un problema de reconocer si ciertos datos con una sola feature son de una clase 1 o de una clase 2 (por ejemplo \"el producto esta deficiente\" o \"el producto esta funcional\").\n",
    "- Por lo tanto estamos resolviendo una **clasificación**.\n",
    "- Para esta clasificación decidimos tomar un SVM, que es un modelo poderoso que funciona buscando la \"mejor\" recta que separa los puntos de cada clase.\n",
    "\n",
    "<img src=\"img/classif_1_feature.png\">\n",
    "\n",
    "*Como podemos ver no existe un separador óptimo. Debemos para resolver el problema buscar un modelo aún más poderoso? No necesariamente.*"
   ]
  },
  {
   "cell_type": "markdown",
   "metadata": {},
   "source": [
    "**Agregemos una nueva feature: $$X[columna_2] = X[columna_1]^2$$**\n",
    "\n",
    "<img src=\"img/classif_2_features.png\">\n",
    "\n",
    "*Claramente con esta nueva feature vemos que existe una recta que separa los espacios de puntos. <br>\n",
    "Esta recta tendra un score ampliamente mejor que cualquier solucion al primer problema.*"
   ]
  },
  {
   "cell_type": "markdown",
   "metadata": {},
   "source": [
    "## Principios de diseño de Features"
   ]
  },
  {
   "cell_type": "markdown",
   "metadata": {},
   "source": [
    "<div class=\"alert alert-success\">\n",
    "  Diseñar tus features es un arte más que una ciencia (por lo que en general te recomendamos ganar experiencia leyendo articulos cientificos y viendo soluciones\n",
    "  <ol>\n",
    "    <li> <strong>Features Informativas</strong>: Tus features son más utiles mientras más correlación tengan tu variable objetivo.</li>\n",
    "  <li> <strong>Features Independientes</strong>: Para no tener redudancias tus features deberían ser lo más independientes posible entre ellas.</li>\n",
    "    <li> <strong>Cantidad de Features controlada</strong>: Nuestra intuición nos falla en dimensiones superiores a 3 (ver video maldicion de la dimensionalidad). En la mayoría de los casos aumentar la cantidad de features afecta negativamente la performance si no contamos con una gran cantidad de datos. Por ultimo pocas features aseguran una mejor interpretabilidad de los modelos</li>\n",
    "  </ol>\n",
    "</div>"
   ]
  },
  {
   "cell_type": "markdown",
   "metadata": {},
   "source": [
    "**Ejemplo de Feature informativa y Feature no informativa**"
   ]
  },
  {
   "cell_type": "markdown",
   "metadata": {},
   "source": [
    "<span style=\"color:green\"> Predecir el **precio de una casa** en **función de sus metros cuadrados**.</span> <br>\n",
    "\n",
    "<span style=\"color:red\"> Predecir el **precio de una casa** en **función de la temperatura del mar**.</span>\n"
   ]
  },
  {
   "cell_type": "markdown",
   "metadata": {},
   "source": [
    "Es importante entender la correlación entre la feature y la variable objetivo. Más sobre esto en los siguientes videos."
   ]
  },
  {
   "cell_type": "markdown",
   "metadata": {},
   "source": [
    "**Visualizar interdepencia entre variables**"
   ]
  },
  {
   "cell_type": "code",
   "execution_count": 18,
   "metadata": {},
   "outputs": [],
   "source": [
    "import pandas as pd\n",
    "X = pd.read_csv('.\\X_opening.csv').drop('worldwide_gross',axis=1)"
   ]
  },
  {
   "cell_type": "code",
   "execution_count": 19,
   "metadata": {},
   "outputs": [
    {
     "data": {
      "text/html": [
       "<div>\n",
       "<style scoped>\n",
       "    .dataframe tbody tr th:only-of-type {\n",
       "        vertical-align: middle;\n",
       "    }\n",
       "\n",
       "    .dataframe tbody tr th {\n",
       "        vertical-align: top;\n",
       "    }\n",
       "\n",
       "    .dataframe thead th {\n",
       "        text-align: right;\n",
       "    }\n",
       "</style>\n",
       "<table border=\"1\" class=\"dataframe\">\n",
       "  <thead>\n",
       "    <tr style=\"text-align: right;\">\n",
       "      <th></th>\n",
       "      <th>production_budget</th>\n",
       "      <th>title_year</th>\n",
       "      <th>aspect_ratio</th>\n",
       "      <th>duration.1</th>\n",
       "      <th>cast_total_facebook_likes</th>\n",
       "      <th>budget</th>\n",
       "      <th>imdb_score</th>\n",
       "      <th>gross</th>\n",
       "    </tr>\n",
       "  </thead>\n",
       "  <tbody>\n",
       "    <tr>\n",
       "      <th>production_budget</th>\n",
       "      <td>1.000000</td>\n",
       "      <td>0.207884</td>\n",
       "      <td>0.077459</td>\n",
       "      <td>0.276407</td>\n",
       "      <td>0.236820</td>\n",
       "      <td>0.185357</td>\n",
       "      <td>0.033154</td>\n",
       "      <td>0.642562</td>\n",
       "    </tr>\n",
       "    <tr>\n",
       "      <th>title_year</th>\n",
       "      <td>0.207884</td>\n",
       "      <td>1.000000</td>\n",
       "      <td>0.130532</td>\n",
       "      <td>-0.137662</td>\n",
       "      <td>0.124693</td>\n",
       "      <td>0.048664</td>\n",
       "      <td>-0.178685</td>\n",
       "      <td>0.014154</td>\n",
       "    </tr>\n",
       "    <tr>\n",
       "      <th>aspect_ratio</th>\n",
       "      <td>0.077459</td>\n",
       "      <td>0.130532</td>\n",
       "      <td>1.000000</td>\n",
       "      <td>-0.012645</td>\n",
       "      <td>0.020656</td>\n",
       "      <td>0.011340</td>\n",
       "      <td>0.037765</td>\n",
       "      <td>0.030225</td>\n",
       "    </tr>\n",
       "    <tr>\n",
       "      <th>duration.1</th>\n",
       "      <td>0.276407</td>\n",
       "      <td>-0.137662</td>\n",
       "      <td>-0.012645</td>\n",
       "      <td>1.000000</td>\n",
       "      <td>0.121918</td>\n",
       "      <td>0.064252</td>\n",
       "      <td>0.315642</td>\n",
       "      <td>0.238216</td>\n",
       "    </tr>\n",
       "    <tr>\n",
       "      <th>cast_total_facebook_likes</th>\n",
       "      <td>0.236820</td>\n",
       "      <td>0.124693</td>\n",
       "      <td>0.020656</td>\n",
       "      <td>0.121918</td>\n",
       "      <td>1.000000</td>\n",
       "      <td>0.032591</td>\n",
       "      <td>0.096663</td>\n",
       "      <td>0.208941</td>\n",
       "    </tr>\n",
       "    <tr>\n",
       "      <th>budget</th>\n",
       "      <td>0.185357</td>\n",
       "      <td>0.048664</td>\n",
       "      <td>0.011340</td>\n",
       "      <td>0.064252</td>\n",
       "      <td>0.032591</td>\n",
       "      <td>1.000000</td>\n",
       "      <td>0.019417</td>\n",
       "      <td>0.102666</td>\n",
       "    </tr>\n",
       "    <tr>\n",
       "      <th>imdb_score</th>\n",
       "      <td>0.033154</td>\n",
       "      <td>-0.178685</td>\n",
       "      <td>0.037765</td>\n",
       "      <td>0.315642</td>\n",
       "      <td>0.096663</td>\n",
       "      <td>0.019417</td>\n",
       "      <td>1.000000</td>\n",
       "      <td>0.201331</td>\n",
       "    </tr>\n",
       "    <tr>\n",
       "      <th>gross</th>\n",
       "      <td>0.642562</td>\n",
       "      <td>0.014154</td>\n",
       "      <td>0.030225</td>\n",
       "      <td>0.238216</td>\n",
       "      <td>0.208941</td>\n",
       "      <td>0.102666</td>\n",
       "      <td>0.201331</td>\n",
       "      <td>1.000000</td>\n",
       "    </tr>\n",
       "  </tbody>\n",
       "</table>\n",
       "</div>"
      ],
      "text/plain": [
       "                           production_budget  title_year  aspect_ratio  \\\n",
       "production_budget                   1.000000    0.207884      0.077459   \n",
       "title_year                          0.207884    1.000000      0.130532   \n",
       "aspect_ratio                        0.077459    0.130532      1.000000   \n",
       "duration.1                          0.276407   -0.137662     -0.012645   \n",
       "cast_total_facebook_likes           0.236820    0.124693      0.020656   \n",
       "budget                              0.185357    0.048664      0.011340   \n",
       "imdb_score                          0.033154   -0.178685      0.037765   \n",
       "gross                               0.642562    0.014154      0.030225   \n",
       "\n",
       "                           duration.1  cast_total_facebook_likes    budget  \\\n",
       "production_budget            0.276407                   0.236820  0.185357   \n",
       "title_year                  -0.137662                   0.124693  0.048664   \n",
       "aspect_ratio                -0.012645                   0.020656  0.011340   \n",
       "duration.1                   1.000000                   0.121918  0.064252   \n",
       "cast_total_facebook_likes    0.121918                   1.000000  0.032591   \n",
       "budget                       0.064252                   0.032591  1.000000   \n",
       "imdb_score                   0.315642                   0.096663  0.019417   \n",
       "gross                        0.238216                   0.208941  0.102666   \n",
       "\n",
       "                           imdb_score     gross  \n",
       "production_budget            0.033154  0.642562  \n",
       "title_year                  -0.178685  0.014154  \n",
       "aspect_ratio                 0.037765  0.030225  \n",
       "duration.1                   0.315642  0.238216  \n",
       "cast_total_facebook_likes    0.096663  0.208941  \n",
       "budget                       0.019417  0.102666  \n",
       "imdb_score                   1.000000  0.201331  \n",
       "gross                        0.201331  1.000000  "
      ]
     },
     "execution_count": 19,
     "metadata": {},
     "output_type": "execute_result"
    }
   ],
   "source": [
    "import seaborn as sns\n",
    "X.corr()"
   ]
  },
  {
   "cell_type": "code",
   "execution_count": 17,
   "metadata": {
    "scrolled": true
   },
   "outputs": [
    {
     "data": {
      "text/plain": [
       "<matplotlib.axes._subplots.AxesSubplot at 0x1da7dcdb508>"
      ]
     },
     "execution_count": 17,
     "metadata": {},
     "output_type": "execute_result"
    },
    {
     "data": {
      "image/png": "[encoded data removed]",
      "text/plain": [
       "<Figure size 432x288 with 2 Axes>"
      ]
     },
     "metadata": {
      "needs_background": "light"
     },
     "output_type": "display_data"
    }
   ],
   "source": [
    "import seaborn as sns\n",
    "%matplotlib inline \n",
    "\n",
    "sns.heatmap(X.corr(),  linewidths=.5,cbar=True, cmap=\"YlGnBu\")"
   ]
  },
  {
   "cell_type": "markdown",
   "metadata": {},
   "source": [
    "## La maldición de la dimensión"
   ]
  },
  {
   "cell_type": "markdown",
   "metadata": {},
   "source": [
    "---\n",
    "\n",
    "*Datasaurus Dozen y Anscombe's quartet:* \n",
    "\n",
    "Utilidad de la capacidad de entender los datos en 1, 2 y 3 dimensiones del ojo humano.\n",
    "\n",
    "*Maldición de la dimensionalidad*:\n",
    "\n",
    "En **dimensión superior o igual a 4**, nuestra capacidad de entender los datos se pierde, **y aún peor fenomenos extraños/contraproducentes ocurren**\n",
    "\n",
    "---\n",
    "\n"
   ]
  },
  {
   "cell_type": "markdown",
   "metadata": {},
   "source": [
    "** Ejemplo 1**\n",
    "\n",
    "Que largo debe tener cada arista de un hypercubo de dimension p que capture 10% del volumen de un hypercubo de volumen 1 que lo contiene?"
   ]
  },
  {
   "cell_type": "markdown",
   "metadata": {},
   "source": [
    "<img src=\"img/cube.png\">"
   ]
  },
  {
   "cell_type": "markdown",
   "metadata": {},
   "source": [
    "$$ V_{hypercubo} = a^p\\ y\\ si\\ V_{hypercubo} = 0.1 \\implies a = 0.1^{1/p}$$\n",
    "$$$$"
   ]
  },
  {
   "cell_type": "code",
   "execution_count": 7,
   "metadata": {},
   "outputs": [
    {
     "data": {
      "text/plain": [
       "[<matplotlib.lines.Line2D at 0x7f4ff5e73438>]"
      ]
     },
     "execution_count": 7,
     "metadata": {},
     "output_type": "execute_result"
    },
    {
     "data": {
      "image/png": "[encoded data removed]",
      "text/plain": [
       "<matplotlib.figure.Figure at 0x7f4ff97b81d0>"
      ]
     },
     "metadata": {},
     "output_type": "display_data"
    }
   ],
   "source": [
    "import matplotlib.pyplot as plt\n",
    "import numpy as np\n",
    "\n",
    "x = np.arange(1,15)\n",
    "y = np.power(0.1,1/x)\n",
    "plt.plot(x,y)"
   ]
  },
  {
   "cell_type": "markdown",
   "metadata": {},
   "source": [
    "**En dimensión 10**: Necesitamos un hypercubo que cubra 80% de cada una de las aristas para solamente obtener 10% del volumen!"
   ]
  },
  {
   "cell_type": "markdown",
   "metadata": {},
   "source": [
    "<div class=\"alert alert-success\">\n",
    "  En alta dimensión es muy poco probable que tus ejemplos cubran todo el espacio de forma densa. <br>\n",
    "  Por ende en **alta dimensión necesitas una cantidad de datos que crece exponencialmente para poder entrenar tus modelos**. <br>\n",
    "  Te recomendamos tener cuidado al aumentar la dimensión de tus datos, no esta prohibido, pero hacerlo de forma exagerada te puede llevar hacia estos problemas.\n",
    "</div>"
   ]
  }
 ],
 "metadata": {
  "kernelspec": {
   "display_name": "Python 3",
   "language": "python",
   "name": "python3"
  },
  "language_info": {
   "codemirror_mode": {
    "name": "ipython",
    "version": 3
   },
   "file_extension": ".py",
   "mimetype": "text/x-python",
   "name": "python",
   "nbconvert_exporter": "python",
   "pygments_lexer": "ipython3",
   "version": "3.7.6"
  }
 },
 "nbformat": 4,
 "nbformat_minor": 2
}
