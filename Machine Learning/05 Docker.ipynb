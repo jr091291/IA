{
 "cells": [
  {
   "cell_type": "markdown",
   "metadata": {
    "slideshow": {
     "slide_type": "slide"
    }
   },
   "source": [
    "## Configurar un ambiente Pydata de trabajo"
   ]
  },
  {
   "cell_type": "markdown",
   "metadata": {
    "slideshow": {
     "slide_type": "slide"
    }
   },
   "source": [
    "- Scikit-learn es la **librería de Machine Learning estandar más popular** según estadisticas de Github.\n",
    "- Saber ocupar Scikit-learn es equivalente a saber hacer **Machine Learning con Python**.\n",
    "- Scikit-learn se apoya en una familia de librerías comunmente conocida como el **ambiente Pydata**."
   ]
  },
  {
   "cell_type": "markdown",
   "metadata": {
    "slideshow": {
     "slide_type": "slide"
    }
   },
   "source": [
    "Para hacer machine learning **de forma profesional** es importante:\n",
    "\n",
    "- Contar con librerias:\n",
    "    - **cientificas** (numpy, scipy, statsmodel),\n",
    "    - **procesamiento de datos** (pandas, dask),  \n",
    "    - **machine learning** (scikit-learn, keras),\n",
    "    - **visualizacion de datos** (matplotlib, bokeh, seaborn).\n",
    "- Contar con ambientes limpios y separados, que se puedan construir rapidamente y de forma reproducible.\n",
    "- Trabajar en un IDE adaptado a workflows de machine Learning\n"
   ]
  },
  {
   "cell_type": "markdown",
   "metadata": {},
   "source": [
    "## Instalar Docker"
   ]
  },
  {
   "cell_type": "markdown",
   "metadata": {},
   "source": [
    "- __*Mac y Windows*__\n",
    "\n",
    "Para estos dos sistemas operativos basta con ir a https://www.docker.com/ y descargar desde la sección \"Get Docker\" el GUI installer apropiado para tu sistema operativo.\n"
   ]
  },
  {
   "cell_type": "markdown",
   "metadata": {},
   "source": [
    "- __*Ubuntu (arquitectura X_86_64)*__\n",
    "\n",
    "Copia y pega -una por una- estas lineas en tu terminal. \n",
    "```shell\n",
    "sudo apt-get remove docker docker-engine docker.io\n",
    "sudo apt-get update\n",
    "sudo apt-get install linux-image-extra-$(uname -r) linux-image-extra-virtual\n",
    "```\n",
    "\n",
    "```shell\n",
    "sudo apt-get install apt-transport-https ca-certificates curl software-properties-common\n",
    "curl -fsSL https://download.docker.com/linux/ubuntu/gpg | sudo apt-key add -\n",
    "sudo add-apt-repository \"deb [arch=amd64] https://download.docker.com/linux/ubuntu $(lsb_release -cs) stable\"\n",
    "```\n",
    "```shell\n",
    "sudo apt-get update\n",
    "sudo apt-get install docker-ce\n",
    "```"
   ]
  },
  {
   "cell_type": "markdown",
   "metadata": {},
   "source": [
    "Para confirmar que docker quedo bien instalado en tu computador corre el comando de test siguiente, que te deberian printear un hola mundo en tu consola:\n",
    "```shell\n",
    "sudo docker run hello-world\n",
    "```"
   ]
  }
 ],
 "metadata": {
  "celltoolbar": "Slideshow",
  "kernelspec": {
   "display_name": "Python 3",
   "language": "python",
   "name": "python3"
  },
  "language_info": {
   "codemirror_mode": {
    "name": "ipython",
    "version": 3
   },
   "file_extension": ".py",
   "mimetype": "text/x-python",
   "name": "python",
   "nbconvert_exporter": "python",
   "pygments_lexer": "ipython3",
   "version": "3.6.0"
  },
  "latex_envs": {
   "LaTeX_envs_menu_present": true,
   "autocomplete": true,
   "bibliofile": "biblio.bib",
   "cite_by": "apalike",
   "current_citInitial": 1,
   "eqLabelWithNumbers": true,
   "eqNumInitial": 1,
   "hotkeys": {
    "equation": "Ctrl-E",
    "itemize": "Ctrl-I"
   },
   "labels_anchors": false,
   "latex_user_defs": false,
   "report_style_numbering": false,
   "user_envs_cfg": false
  }
 },
 "nbformat": 4,
 "nbformat_minor": 2
}
