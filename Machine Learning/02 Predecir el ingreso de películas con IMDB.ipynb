{
 "cells": [
  {
   "cell_type": "markdown",
   "metadata": {
    "slideshow": {
     "slide_type": "slide"
    }
   },
   "source": [
    "## Nuestro problema: Predicción de Ingresos de películas.\n"
   ]
  },
  {
   "cell_type": "markdown",
   "metadata": {
    "slideshow": {
     "slide_type": "slide"
    }
   },
   "source": [
    "Contexto: *Somos un ente gubernamental que quiere definir sus políticas de financiamiento de producciones cinematográficas nacionales.*\n",
    "\n",
    "_**Reconoce el tipo de aprendizaje que necesitas**_\n",
    "\n",
    "1. **Ayudar** a la producción de peliculas de calidad **que no logran ser autosustentables**.  \n",
    "2. Nos sería útil saber que películas tienen más dificultad para recuperar en sus presupuestos. Por consiguiente queremos **predecir una métrica**: el ingreso mundial generado por una película. \n",
    "\n"
   ]
  },
  {
   "cell_type": "markdown",
   "metadata": {
    "slideshow": {
     "slide_type": "slide"
    }
   },
   "source": [
    "##### Aterriza tu problema de aprendizaje supervisado\n",
    "\n",
    "1. Los ingresos de una película corresponden a **valores continuos**.\n",
    "2. Mi éxito será **\"qué tan cerca estoy del valor real de ingreso generado por la pelicula\"**.\n",
    "3. Me basaré en **bases de datos públicas de internet**\n",
    "4. El dominio de trabajo es la **industria del cine**, en particular de la distribución de peliculas.\n",
    "5. Sí, de forma general existen bastantes caracteristicas que me pueden ayudar a saber que película será exitosa como: **calidad, actores, presupuesto, etc...**"
   ]
  },
  {
   "cell_type": "markdown",
   "metadata": {
    "slideshow": {
     "slide_type": "slide"
    }
   },
   "source": [
    "\n",
    "- *Quiero predecir ingresos de péliculas, para tomar mejores decisiones de financiamiento, con base a una regresión sobre datos de películas extraídos de internet.* \n",
    "- *Mi evaluación del éxito será la precisión de mis predicciones.* \n",
    "- *Podré apoyarme en conocimientos específicos de la industria.*"
   ]
  }
 ],
 "metadata": {
  "celltoolbar": "Slideshow",
  "kernelspec": {
   "display_name": "Python 3",
   "language": "python",
   "name": "python3"
  },
  "language_info": {
   "codemirror_mode": {
    "name": "ipython",
    "version": 3
   },
   "file_extension": ".py",
   "mimetype": "text/x-python",
   "name": "python",
   "nbconvert_exporter": "python",
   "pygments_lexer": "ipython3",
   "version": "3.7.6"
  }
 },
 "nbformat": 4,
 "nbformat_minor": 2
}
