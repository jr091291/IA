{
  "nbformat": 4,
  "nbformat_minor": 0,
  "metadata": {
    "kernelspec": {
      "display_name": "Python 3",
      "language": "python",
      "name": "python3"
    },
    "language_info": {
      "codemirror_mode": {
        "name": "ipython",
        "version": 3
      },
      "file_extension": ".py",
      "mimetype": "text/x-python",
      "name": "python",
      "nbconvert_exporter": "python",
      "pygments_lexer": "ipython3",
      "version": "3.7.6"
    },
    "colab": {
      "name": "Copia de Copia de Data wrangling.ipynb",
      "provenance": [],
      "collapsed_sections": []
    }
  },
  "cells": [
    {
      "cell_type": "markdown",
      "metadata": {
        "id": "3LWA7a_J1ESY",
        "colab_type": "text"
      },
      "source": [
        "# **Importar Datos**"
      ]
    },
    {
      "cell_type": "code",
      "metadata": {
        "id": "FwfOXT9W0-m8",
        "colab_type": "code",
        "colab": {}
      },
      "source": [
        "import pandas as pd\n",
        "import numpy as np"
      ],
      "execution_count": 0,
      "outputs": []
    },
    {
      "cell_type": "code",
      "metadata": {
        "id": "x743MS1L0-nC",
        "colab_type": "code",
        "colab": {}
      },
      "source": [
        "df_lineo=pd.read_csv('https://docs.google.com/spreadsheets/d/e/2PACX-1vRDzLf36WF7fwhkzQMEH1HE9OMHhJuwR6wXuQCkPJygaadlqdt4ZK582BG_762JrwxwmI7nIuvpW0oC/pub?gid=410360197&single=true&output=csv')  \n",
        "df_Mercado_libre =pd.read_csv('https://docs.google.com/spreadsheets/d/e/2PACX-1vTwWbw5PBrxm6dUTEmRW6aQGf9gc_TgEt2ziDnHNzjKqGg2AlXDWFDnBxSB1GmsVPdqjU33JuS0j9W0/pub?gid=844185965&single=true&output=csv')  \n",
        "df_alkosto =pd.read_csv('https://docs.google.com/spreadsheets/d/e/2PACX-1vQxKsBzwrifVJdR_9cdjhVbSExhhFvfIzpmntNxNI7DMapYxw5QbcuF_thRP1-9MMvzVddEePAXK5TN/pub?gid=155685023&single=true&output=csv')  "
      ],
      "execution_count": 0,
      "outputs": []
    },
    {
      "cell_type": "markdown",
      "metadata": {
        "id": "CM6NEBGsxymM",
        "colab_type": "text"
      },
      "source": [
        "**Asignar df a analizar**"
      ]
    },
    {
      "cell_type": "code",
      "metadata": {
        "id": "LT62id-hxw5y",
        "colab_type": "code",
        "outputId": "566d9f5d-21ec-4be5-c26f-55e3d0267255",
        "colab": {
          "base_uri": "https://localhost:8080/",
          "height": 371
        }
      },
      "source": [
        "df_diff = df_alkosto.copy()\n",
        "df_diff.head(5)"
      ],
      "execution_count": 11,
      "outputs": [
        {
          "output_type": "execute_result",
          "data": {
            "text/html": [
              "<div>\n",
              "<style scoped>\n",
              "    .dataframe tbody tr th:only-of-type {\n",
              "        vertical-align: middle;\n",
              "    }\n",
              "\n",
              "    .dataframe tbody tr th {\n",
              "        vertical-align: top;\n",
              "    }\n",
              "\n",
              "    .dataframe thead th {\n",
              "        text-align: right;\n",
              "    }\n",
              "</style>\n",
              "<table border=\"1\" class=\"dataframe\">\n",
              "  <thead>\n",
              "    <tr style=\"text-align: right;\">\n",
              "      <th></th>\n",
              "      <th>title</th>\n",
              "      <th>brank</th>\n",
              "      <th>price</th>\n",
              "      <th>color</th>\n",
              "      <th>opinions</th>\n",
              "      <th>average_opinions</th>\n",
              "      <th>raw_description</th>\n",
              "      <th>seller</th>\n",
              "      <th>url</th>\n",
              "    </tr>\n",
              "  </thead>\n",
              "  <tbody>\n",
              "    <tr>\n",
              "      <th>0</th>\n",
              "      <td>Celular XIAOMI REDMI 8A 32GB Negro</td>\n",
              "      <td>419900.0</td>\n",
              "      <td>419900.0</td>\n",
              "      <td>NaN</td>\n",
              "      <td>2.0</td>\n",
              "      <td>5.0</td>\n",
              "      <td>\\n\\nEl potente 8A te brindará un rendimiento ó...</td>\n",
              "      <td>Alkosto</td>\n",
              "      <td>http://www.alkosto.com/celular-xiaomi-redmi-8a...</td>\n",
              "    </tr>\n",
              "    <tr>\n",
              "      <th>1</th>\n",
              "      <td>Celular XIAOMI REDMI Note 8 Pro 128GB Verde</td>\n",
              "      <td>1399900.0</td>\n",
              "      <td>1399900.0</td>\n",
              "      <td>Verde</td>\n",
              "      <td>2.0</td>\n",
              "      <td>5.0</td>\n",
              "      <td>\\n\\nXiaomi con su Note 8 Pro quiere que recuer...</td>\n",
              "      <td>Alkosto</td>\n",
              "      <td>http://www.alkosto.com/celular-xiaomi-redmi-no...</td>\n",
              "    </tr>\n",
              "    <tr>\n",
              "      <th>2</th>\n",
              "      <td>Celular MOTOROLA G8 Plus 64GB Rojo</td>\n",
              "      <td>749900.0</td>\n",
              "      <td>749900.0</td>\n",
              "      <td>Bateria Recargable Interna</td>\n",
              "      <td>133.0</td>\n",
              "      <td>5.0</td>\n",
              "      <td>\\n\\nTodo nuevo para ti.\\nSensor 48 MPX + Night...</td>\n",
              "      <td>Alkosto</td>\n",
              "      <td>http://www.alkosto.com/celular-motorola-g8-plu...</td>\n",
              "    </tr>\n",
              "    <tr>\n",
              "      <th>3</th>\n",
              "      <td>iPhone 7 32GB Negro Mate</td>\n",
              "      <td>1499000.0</td>\n",
              "      <td>1499000.0</td>\n",
              "      <td>Negro</td>\n",
              "      <td>65.0</td>\n",
              "      <td>5.0</td>\n",
              "      <td>\\n\\niPhone 7Pantalla: 4.7 HD RetinaCámara: 12 ...</td>\n",
              "      <td>Alkosto</td>\n",
              "      <td>http://www.alkosto.com/iphone-7-32gb-negro-mate</td>\n",
              "    </tr>\n",
              "    <tr>\n",
              "      <th>4</th>\n",
              "      <td>Celular MOTOROLA ONE HYPER 128GB Azul</td>\n",
              "      <td>1349900.0</td>\n",
              "      <td>1349900.0</td>\n",
              "      <td>Azul</td>\n",
              "      <td>5.0</td>\n",
              "      <td>4.0</td>\n",
              "      <td>\\n\\nCaptura increíbles detalles aún con poca l...</td>\n",
              "      <td>Alkosto</td>\n",
              "      <td>http://www.alkosto.com/celular-motorola-one-hy...</td>\n",
              "    </tr>\n",
              "  </tbody>\n",
              "</table>\n",
              "</div>"
            ],
            "text/plain": [
              "                                         title  ...                                                url\n",
              "0           Celular XIAOMI REDMI 8A 32GB Negro  ...  http://www.alkosto.com/celular-xiaomi-redmi-8a...\n",
              "1  Celular XIAOMI REDMI Note 8 Pro 128GB Verde  ...  http://www.alkosto.com/celular-xiaomi-redmi-no...\n",
              "2           Celular MOTOROLA G8 Plus 64GB Rojo  ...  http://www.alkosto.com/celular-motorola-g8-plu...\n",
              "3                     iPhone 7 32GB Negro Mate  ...    http://www.alkosto.com/iphone-7-32gb-negro-mate\n",
              "4        Celular MOTOROLA ONE HYPER 128GB Azul  ...  http://www.alkosto.com/celular-motorola-one-hy...\n",
              "\n",
              "[5 rows x 9 columns]"
            ]
          },
          "metadata": {
            "tags": []
          },
          "execution_count": 11
        }
      ]
    },
    {
      "cell_type": "markdown",
      "metadata": {
        "id": "AUPFWvNUFWP_",
        "colab_type": "text"
      },
      "source": [
        "# **Importando Colores de Wikipedia**"
      ]
    },
    {
      "cell_type": "code",
      "metadata": {
        "id": "fLWLr-yjywJw",
        "colab_type": "code",
        "colab": {}
      },
      "source": [
        "import requests\n",
        "from bs4 import BeautifulSoup\n",
        "\n",
        "def get_query(url:str, selector:str):\n",
        "  data = []\n",
        "  try:   \n",
        "    response = requests.get(url)\n",
        "    response.raise_for_status()\n",
        "\n",
        "    if response: \n",
        "        soup = BeautifulSoup(response.text, \"html.parser\")\n",
        "        return soup.select(selector)\n",
        "    return []\n",
        "  except:\n",
        "    return []\n",
        "\n",
        "def getColors(resuts_colors):\n",
        "    colors = []\n",
        "    for c in resuts_colors:\n",
        "      color = c['title']\n",
        "      if color.find(':') < 0:\n",
        "        color = color.replace(' (color)','').lower().rstrip()\n",
        "        colors.append(color)\n",
        "    return list(set(colors))\n",
        "\n",
        "def _valid_color(colors:str, color: str)-> bool :\n",
        "  if string_colors.find(color.strip().lower()) < 0:\n",
        "    return False\n",
        "  return True\n",
        "\n",
        "url_colors = 'https://es.wikipedia.org/wiki/Anexo:Colores_por_orden_alfab%C3%A9tico'\n",
        "selector = \"#mw-content-text > div > p > a[title]\"\n",
        "\n",
        "colors = get_query(url_colors, selector)\n",
        "colors = getColors(colors)\n",
        "colors.sort()\n",
        "string_colors = \",\".join(colors)"
      ],
      "execution_count": 0,
      "outputs": []
    },
    {
      "cell_type": "markdown",
      "metadata": {
        "id": "42aW6-msSLqd",
        "colab_type": "text"
      },
      "source": [
        "# Validar y remplazar colores desconocidos **Dataframe**"
      ]
    },
    {
      "cell_type": "code",
      "metadata": {
        "id": "OnISvx2oSIEG",
        "colab_type": "code",
        "outputId": "8c88e7b5-6613-49bd-8d45-2589e7ca03fd",
        "colab": {
          "base_uri": "https://localhost:8080/",
          "height": 237
        }
      },
      "source": [
        "df_temp = df_diff.loc[:,['color']]\n",
        "\n",
        "mask=[]\n",
        "for c in df_temp['color']:\n",
        "  if _valid_color(str(string_colors), str(c)) and len(c) <= 15:\n",
        "    mask.append(False)\n",
        "  else:\n",
        "    mask.append(True)  \n",
        "\n",
        "df_temp[mask] = np.NaN\n",
        "df_diff['color'] = df_temp\n",
        "df_diff[23:27]\n"
      ],
      "execution_count": 5,
      "outputs": [
        {
          "output_type": "execute_result",
          "data": {
            "text/html": [
              "<div>\n",
              "<style scoped>\n",
              "    .dataframe tbody tr th:only-of-type {\n",
              "        vertical-align: middle;\n",
              "    }\n",
              "\n",
              "    .dataframe tbody tr th {\n",
              "        vertical-align: top;\n",
              "    }\n",
              "\n",
              "    .dataframe thead th {\n",
              "        text-align: right;\n",
              "    }\n",
              "</style>\n",
              "<table border=\"1\" class=\"dataframe\">\n",
              "  <thead>\n",
              "    <tr style=\"text-align: right;\">\n",
              "      <th></th>\n",
              "      <th>title</th>\n",
              "      <th>brank</th>\n",
              "      <th>price</th>\n",
              "      <th>color</th>\n",
              "      <th>opinions</th>\n",
              "      <th>average_opinions</th>\n",
              "      <th>raw_description</th>\n",
              "      <th>seller</th>\n",
              "      <th>url</th>\n",
              "    </tr>\n",
              "  </thead>\n",
              "  <tbody>\n",
              "    <tr>\n",
              "      <th>23</th>\n",
              "      <td>Celular XIAOMI MI NOTE 10 128GB  Blanco</td>\n",
              "      <td>2.499.900</td>\n",
              "      <td>2499900</td>\n",
              "      <td>SI</td>\n",
              "      <td>1.0</td>\n",
              "      <td>4.0</td>\n",
              "      <td>\\n                            Bienvenido a la ...</td>\n",
              "      <td>Alkosto</td>\n",
              "      <td>http://www.alkosto.com/celular-xiaomi-mi-note-...</td>\n",
              "    </tr>\n",
              "    <tr>\n",
              "      <th>24</th>\n",
              "      <td>iPhone 11 Pro 64 GB de en verde noche</td>\n",
              "      <td>4.929.000</td>\n",
              "      <td>4929000</td>\n",
              "      <td>NaN</td>\n",
              "      <td>3.0</td>\n",
              "      <td>5.0</td>\n",
              "      <td>\\n\\nEl nuevo iPhone 11 Pro tiene un sistema de...</td>\n",
              "      <td>Alkosto</td>\n",
              "      <td>http://www.alkosto.com/iphone-11-pro-64-gb-de-...</td>\n",
              "    </tr>\n",
              "    <tr>\n",
              "      <th>25</th>\n",
              "      <td>Celular SAMSUNG Galaxy S20 Ultra 128GB Gris</td>\n",
              "      <td>5.499.090</td>\n",
              "      <td>5499090</td>\n",
              "      <td>NaN</td>\n",
              "      <td>NaN</td>\n",
              "      <td>NaN</td>\n",
              "      <td>\\n                            El teléfono que ...</td>\n",
              "      <td>Alkosto</td>\n",
              "      <td>http://www.alkosto.com/celular-samsung-galaxy-...</td>\n",
              "    </tr>\n",
              "    <tr>\n",
              "      <th>26</th>\n",
              "      <td>iPhone 11 64 GB en amarillo</td>\n",
              "      <td>3.449.000</td>\n",
              "      <td>3449000</td>\n",
              "      <td>NaN</td>\n",
              "      <td>NaN</td>\n",
              "      <td>NaN</td>\n",
              "      <td>\\n\\nEl nuevo iPhone 11 tiene un sistema de dos...</td>\n",
              "      <td>Alkosto</td>\n",
              "      <td>http://www.alkosto.com/iphone-11-64-gb-en-amar...</td>\n",
              "    </tr>\n",
              "  </tbody>\n",
              "</table>\n",
              "</div>"
            ],
            "text/plain": [
              "                                          title  ...                                                url\n",
              "23      Celular XIAOMI MI NOTE 10 128GB  Blanco  ...  http://www.alkosto.com/celular-xiaomi-mi-note-...\n",
              "24        iPhone 11 Pro 64 GB de en verde noche  ...  http://www.alkosto.com/iphone-11-pro-64-gb-de-...\n",
              "25  Celular SAMSUNG Galaxy S20 Ultra 128GB Gris  ...  http://www.alkosto.com/celular-samsung-galaxy-...\n",
              "26                  iPhone 11 64 GB en amarillo  ...  http://www.alkosto.com/iphone-11-64-gb-en-amar...\n",
              "\n",
              "[4 rows x 9 columns]"
            ]
          },
          "metadata": {
            "tags": []
          },
          "execution_count": 5
        }
      ]
    },
    {
      "cell_type": "markdown",
      "metadata": {
        "id": "3FfGP_iyS2Mh",
        "colab_type": "text"
      },
      "source": [
        "# Validar y remplazar **opiniones**"
      ]
    },
    {
      "cell_type": "markdown",
      "metadata": {
        "id": "TViA7RQH7eBp",
        "colab_type": "text"
      },
      "source": [
        "**Validando captura de datos**"
      ]
    },
    {
      "cell_type": "code",
      "metadata": {
        "id": "M4kXayhyY7EB",
        "colab_type": "code",
        "outputId": "57c101a9-e241-46c6-ba00-222eea13977a",
        "colab": {
          "base_uri": "https://localhost:8080/",
          "height": 235
        }
      },
      "source": [
        "import re\n",
        "\n",
        "def get_nums(e:str):\n",
        "  result = re.findall(r'[\\d]+\\s', e)\n",
        "  if result:\n",
        "    return int(result[0])\n",
        "  return np.NaN\n",
        "\n",
        "missing_opinions_mask = df_diff['opinions'].notna()\n",
        "\n",
        "df_diff[missing_opinions_mask]['opinions']"
      ],
      "execution_count": 6,
      "outputs": [
        {
          "output_type": "execute_result",
          "data": {
            "text/plain": [
              "0        2.0\n",
              "1        2.0\n",
              "2      133.0\n",
              "3       65.0\n",
              "4        5.0\n",
              "       ...  \n",
              "132     43.0\n",
              "133      1.0\n",
              "134      4.0\n",
              "135      2.0\n",
              "136      9.0\n",
              "Name: opinions, Length: 106, dtype: float64"
            ]
          },
          "metadata": {
            "tags": []
          },
          "execution_count": 6
        }
      ]
    },
    {
      "cell_type": "markdown",
      "metadata": {
        "id": "SmJkIUfOz4Gf",
        "colab_type": "text"
      },
      "source": [
        "# Validar Seller"
      ]
    },
    {
      "cell_type": "code",
      "metadata": {
        "id": "tuOuq9Ig0EG6",
        "colab_type": "code",
        "outputId": "dec060c2-08d6-4965-92c1-a6f8fc5fde87",
        "colab": {
          "base_uri": "https://localhost:8080/",
          "height": 632
        }
      },
      "source": [
        "missing_seller_mask = df_diff['seller'].notna()\n",
        "\n",
        "missing_seller=(df_diff[missing_seller_mask]['seller']\n",
        "        .apply(lambda seller: list(seller))\n",
        "        .apply(lambda letters: list(map(lambda letter: letter.replace('\\n', ' '), letters)))\n",
        "        .apply(lambda letters: ''.join(letters))\n",
        "        .apply(lambda word: word.strip())\n",
        "        .apply(lambda seller: re.sub('\\S+\\/','',seller))\n",
        "        .apply(lambda seller: re.sub('\\W',' ',seller))\n",
        ")\n",
        "\n",
        "df_diff.loc[missing_seller_mask, 'seller'] = missing_seller\n",
        "df_diff\n"
      ],
      "execution_count": 7,
      "outputs": [
        {
          "output_type": "execute_result",
          "data": {
            "text/html": [
              "<div>\n",
              "<style scoped>\n",
              "    .dataframe tbody tr th:only-of-type {\n",
              "        vertical-align: middle;\n",
              "    }\n",
              "\n",
              "    .dataframe tbody tr th {\n",
              "        vertical-align: top;\n",
              "    }\n",
              "\n",
              "    .dataframe thead th {\n",
              "        text-align: right;\n",
              "    }\n",
              "</style>\n",
              "<table border=\"1\" class=\"dataframe\">\n",
              "  <thead>\n",
              "    <tr style=\"text-align: right;\">\n",
              "      <th></th>\n",
              "      <th>title</th>\n",
              "      <th>brank</th>\n",
              "      <th>price</th>\n",
              "      <th>color</th>\n",
              "      <th>opinions</th>\n",
              "      <th>average_opinions</th>\n",
              "      <th>raw_description</th>\n",
              "      <th>seller</th>\n",
              "      <th>url</th>\n",
              "    </tr>\n",
              "  </thead>\n",
              "  <tbody>\n",
              "    <tr>\n",
              "      <th>0</th>\n",
              "      <td>Celular XIAOMI REDMI 8A 32GB Negro</td>\n",
              "      <td>419.9</td>\n",
              "      <td>$419,900.00</td>\n",
              "      <td>NaN</td>\n",
              "      <td>2.0</td>\n",
              "      <td>5.0</td>\n",
              "      <td>\\n\\nEl potente 8A te brindará un rendimiento ó...</td>\n",
              "      <td>Alkosto</td>\n",
              "      <td>http://www.alkosto.com/celular-xiaomi-redmi-8a...</td>\n",
              "    </tr>\n",
              "    <tr>\n",
              "      <th>1</th>\n",
              "      <td>Celular XIAOMI REDMI Note 8 Pro 128GB Verde</td>\n",
              "      <td>1.399.900</td>\n",
              "      <td>1399900</td>\n",
              "      <td>Verde</td>\n",
              "      <td>2.0</td>\n",
              "      <td>5.0</td>\n",
              "      <td>\\n\\nXiaomi con su Note 8 Pro quiere que recuer...</td>\n",
              "      <td>Alkosto</td>\n",
              "      <td>http://www.alkosto.com/celular-xiaomi-redmi-no...</td>\n",
              "    </tr>\n",
              "    <tr>\n",
              "      <th>2</th>\n",
              "      <td>Celular MOTOROLA G8 Plus 64GB Rojo</td>\n",
              "      <td>749.9</td>\n",
              "      <td>$749,900.00</td>\n",
              "      <td>NaN</td>\n",
              "      <td>133.0</td>\n",
              "      <td>5.0</td>\n",
              "      <td>\\n\\nTodo nuevo para ti.\\nSensor 48 MPX + Night...</td>\n",
              "      <td>Alkosto</td>\n",
              "      <td>http://www.alkosto.com/celular-motorola-g8-plu...</td>\n",
              "    </tr>\n",
              "    <tr>\n",
              "      <th>3</th>\n",
              "      <td>iPhone 7 32GB Negro Mate</td>\n",
              "      <td>1.499.000</td>\n",
              "      <td>1499000</td>\n",
              "      <td>Negro</td>\n",
              "      <td>65.0</td>\n",
              "      <td>5.0</td>\n",
              "      <td>\\n\\niPhone 7Pantalla: 4.7 HD RetinaCámara: 12 ...</td>\n",
              "      <td>Alkosto</td>\n",
              "      <td>http://www.alkosto.com/iphone-7-32gb-negro-mate</td>\n",
              "    </tr>\n",
              "    <tr>\n",
              "      <th>4</th>\n",
              "      <td>Celular MOTOROLA ONE HYPER 128GB Azul</td>\n",
              "      <td>1.349.900</td>\n",
              "      <td>1349900</td>\n",
              "      <td>Azul</td>\n",
              "      <td>5.0</td>\n",
              "      <td>4.0</td>\n",
              "      <td>\\n\\nCaptura increíbles detalles aún con poca l...</td>\n",
              "      <td>Alkosto</td>\n",
              "      <td>http://www.alkosto.com/celular-motorola-one-hy...</td>\n",
              "    </tr>\n",
              "    <tr>\n",
              "      <th>...</th>\n",
              "      <td>...</td>\n",
              "      <td>...</td>\n",
              "      <td>...</td>\n",
              "      <td>...</td>\n",
              "      <td>...</td>\n",
              "      <td>...</td>\n",
              "      <td>...</td>\n",
              "      <td>...</td>\n",
              "      <td>...</td>\n",
              "    </tr>\n",
              "    <tr>\n",
              "      <th>132</th>\n",
              "      <td>Celular ASUS Zenfone Max M2 32G 4G Negro</td>\n",
              "      <td>469.9</td>\n",
              "      <td>$469,900.00</td>\n",
              "      <td>Negro</td>\n",
              "      <td>43.0</td>\n",
              "      <td>5.0</td>\n",
              "      <td>\\n                            El nuevo ZenFone...</td>\n",
              "      <td>Alkosto</td>\n",
              "      <td>http://www.alkosto.com/celular-asus-zenfone-m2...</td>\n",
              "    </tr>\n",
              "    <tr>\n",
              "      <th>133</th>\n",
              "      <td>Celular iPhone XS Max 64 GB 4G Plata</td>\n",
              "      <td>4.749.000</td>\n",
              "      <td>4749000</td>\n",
              "      <td>NaN</td>\n",
              "      <td>1.0</td>\n",
              "      <td>5.0</td>\n",
              "      <td>\\n\\nBienvenido a la pantalla más grande en un ...</td>\n",
              "      <td>Alkosto</td>\n",
              "      <td>http://www.alkosto.com/celular-iphone-xs-max-6...</td>\n",
              "    </tr>\n",
              "    <tr>\n",
              "      <th>134</th>\n",
              "      <td>Celular SAMSUNG GaLaxy A51 - 128GB Azul</td>\n",
              "      <td>1.299.900</td>\n",
              "      <td>1299900</td>\n",
              "      <td>NaN</td>\n",
              "      <td>4.0</td>\n",
              "      <td>5.0</td>\n",
              "      <td>\\n\\nDisfruta del mejor contenido con el displa...</td>\n",
              "      <td>Alkosto</td>\n",
              "      <td>http://www.alkosto.com/celular-samsung-galaxy-...</td>\n",
              "    </tr>\n",
              "    <tr>\n",
              "      <th>135</th>\n",
              "      <td>Celular XIAOMI REDMI Note 8 Pro 128GB Gris</td>\n",
              "      <td>1.399.900</td>\n",
              "      <td>1399900</td>\n",
              "      <td>Gris</td>\n",
              "      <td>2.0</td>\n",
              "      <td>5.0</td>\n",
              "      <td>\\n\\nXiaomi con su Note 8 Pro quiere que recuer...</td>\n",
              "      <td>Alkosto</td>\n",
              "      <td>http://www.alkosto.com/celular-xiaomi-redmi-no...</td>\n",
              "    </tr>\n",
              "    <tr>\n",
              "      <th>136</th>\n",
              "      <td>iPhone 11 128 GB en rojo</td>\n",
              "      <td>3.689.000</td>\n",
              "      <td>3689000</td>\n",
              "      <td>NaN</td>\n",
              "      <td>9.0</td>\n",
              "      <td>5.0</td>\n",
              "      <td>\\n\\nEl nuevo iPhone 11 tiene un sistema de dos...</td>\n",
              "      <td>Alkosto</td>\n",
              "      <td>http://www.alkosto.com/iphone-11-128-gb-en-rojo</td>\n",
              "    </tr>\n",
              "  </tbody>\n",
              "</table>\n",
              "<p>137 rows × 9 columns</p>\n",
              "</div>"
            ],
            "text/plain": [
              "                                           title  ...                                                url\n",
              "0             Celular XIAOMI REDMI 8A 32GB Negro  ...  http://www.alkosto.com/celular-xiaomi-redmi-8a...\n",
              "1    Celular XIAOMI REDMI Note 8 Pro 128GB Verde  ...  http://www.alkosto.com/celular-xiaomi-redmi-no...\n",
              "2             Celular MOTOROLA G8 Plus 64GB Rojo  ...  http://www.alkosto.com/celular-motorola-g8-plu...\n",
              "3                       iPhone 7 32GB Negro Mate  ...    http://www.alkosto.com/iphone-7-32gb-negro-mate\n",
              "4          Celular MOTOROLA ONE HYPER 128GB Azul  ...  http://www.alkosto.com/celular-motorola-one-hy...\n",
              "..                                           ...  ...                                                ...\n",
              "132     Celular ASUS Zenfone Max M2 32G 4G Negro  ...  http://www.alkosto.com/celular-asus-zenfone-m2...\n",
              "133         Celular iPhone XS Max 64 GB 4G Plata  ...  http://www.alkosto.com/celular-iphone-xs-max-6...\n",
              "134      Celular SAMSUNG GaLaxy A51 - 128GB Azul  ...  http://www.alkosto.com/celular-samsung-galaxy-...\n",
              "135   Celular XIAOMI REDMI Note 8 Pro 128GB Gris  ...  http://www.alkosto.com/celular-xiaomi-redmi-no...\n",
              "136                     iPhone 11 128 GB en rojo  ...    http://www.alkosto.com/iphone-11-128-gb-en-rojo\n",
              "\n",
              "[137 rows x 9 columns]"
            ]
          },
          "metadata": {
            "tags": []
          },
          "execution_count": 7
        }
      ]
    },
    {
      "cell_type": "markdown",
      "metadata": {
        "id": "HDufnsBzMkym",
        "colab_type": "text"
      },
      "source": [
        "# Validar price"
      ]
    },
    {
      "cell_type": "code",
      "metadata": {
        "id": "ylISah57Mpud",
        "colab_type": "code",
        "outputId": "49a9eaa3-9ded-43e1-ce95-a6b9d4c89423",
        "colab": {
          "base_uri": "https://localhost:8080/",
          "height": 431
        }
      },
      "source": [
        "missing_price_mask = df_diff['price'].notna()\n",
        "\n",
        "missing_price =(df_diff[missing_price_mask]['price']\n",
        "        .apply(lambda seller: list(seller))\n",
        "        .apply(lambda letters: list(map(lambda letter: letter.replace('n', ''), letters)))\n",
        "        .apply(lambda letters: list(map(lambda letter: letter.replace('$', ' '), letters)))\n",
        "        .apply(lambda letters: list(map(lambda letter: letter.replace('.', ''), letters)))\n",
        "        .apply(lambda letters: list(map(lambda letter: letter.replace('\\\\', ''), letters)))\n",
        "        .apply(lambda letters: ''.join(letters))\n",
        "        .apply(lambda word: int(word.strip()))\n",
        ")\n",
        "\n",
        "df_diff.loc[missing_price_mask, 'price'] = missing_price\n",
        "df_diff\n",
        "\n"
      ],
      "execution_count": 12,
      "outputs": [
        {
          "output_type": "error",
          "ename": "TypeError",
          "evalue": "ignored",
          "traceback": [
            "\u001b[0;31m---------------------------------------------------------------------------\u001b[0m",
            "\u001b[0;31mTypeError\u001b[0m                                 Traceback (most recent call last)",
            "\u001b[0;32m<ipython-input-12-2aa05f1c1d4f>\u001b[0m in \u001b[0;36m<module>\u001b[0;34m()\u001b[0m\n\u001b[1;32m      2\u001b[0m \u001b[0;34m\u001b[0m\u001b[0m\n\u001b[1;32m      3\u001b[0m missing_price =(df_diff[missing_price_mask]['price']\n\u001b[0;32m----> 4\u001b[0;31m         \u001b[0;34m.\u001b[0m\u001b[0mapply\u001b[0m\u001b[0;34m(\u001b[0m\u001b[0;32mlambda\u001b[0m \u001b[0mseller\u001b[0m\u001b[0;34m:\u001b[0m \u001b[0mlist\u001b[0m\u001b[0;34m(\u001b[0m\u001b[0mseller\u001b[0m\u001b[0;34m)\u001b[0m\u001b[0;34m)\u001b[0m\u001b[0;34m\u001b[0m\u001b[0;34m\u001b[0m\u001b[0m\n\u001b[0m\u001b[1;32m      5\u001b[0m         \u001b[0;34m.\u001b[0m\u001b[0mapply\u001b[0m\u001b[0;34m(\u001b[0m\u001b[0;32mlambda\u001b[0m \u001b[0mletters\u001b[0m\u001b[0;34m:\u001b[0m \u001b[0mlist\u001b[0m\u001b[0;34m(\u001b[0m\u001b[0mmap\u001b[0m\u001b[0;34m(\u001b[0m\u001b[0;32mlambda\u001b[0m \u001b[0mletter\u001b[0m\u001b[0;34m:\u001b[0m \u001b[0mletter\u001b[0m\u001b[0;34m.\u001b[0m\u001b[0mreplace\u001b[0m\u001b[0;34m(\u001b[0m\u001b[0;34m'n'\u001b[0m\u001b[0;34m,\u001b[0m \u001b[0;34m''\u001b[0m\u001b[0;34m)\u001b[0m\u001b[0;34m,\u001b[0m \u001b[0mletters\u001b[0m\u001b[0;34m)\u001b[0m\u001b[0;34m)\u001b[0m\u001b[0;34m)\u001b[0m\u001b[0;34m\u001b[0m\u001b[0;34m\u001b[0m\u001b[0m\n\u001b[1;32m      6\u001b[0m         \u001b[0;34m.\u001b[0m\u001b[0mapply\u001b[0m\u001b[0;34m(\u001b[0m\u001b[0;32mlambda\u001b[0m \u001b[0mletters\u001b[0m\u001b[0;34m:\u001b[0m \u001b[0mlist\u001b[0m\u001b[0;34m(\u001b[0m\u001b[0mmap\u001b[0m\u001b[0;34m(\u001b[0m\u001b[0;32mlambda\u001b[0m \u001b[0mletter\u001b[0m\u001b[0;34m:\u001b[0m \u001b[0mletter\u001b[0m\u001b[0;34m.\u001b[0m\u001b[0mreplace\u001b[0m\u001b[0;34m(\u001b[0m\u001b[0;34m'$'\u001b[0m\u001b[0;34m,\u001b[0m \u001b[0;34m' '\u001b[0m\u001b[0;34m)\u001b[0m\u001b[0;34m,\u001b[0m \u001b[0mletters\u001b[0m\u001b[0;34m)\u001b[0m\u001b[0;34m)\u001b[0m\u001b[0;34m)\u001b[0m\u001b[0;34m\u001b[0m\u001b[0;34m\u001b[0m\u001b[0m\n",
            "\u001b[0;32m/usr/local/lib/python3.6/dist-packages/pandas/core/series.py\u001b[0m in \u001b[0;36mapply\u001b[0;34m(self, func, convert_dtype, args, **kwds)\u001b[0m\n\u001b[1;32m   3846\u001b[0m             \u001b[0;32melse\u001b[0m\u001b[0;34m:\u001b[0m\u001b[0;34m\u001b[0m\u001b[0;34m\u001b[0m\u001b[0m\n\u001b[1;32m   3847\u001b[0m                 \u001b[0mvalues\u001b[0m \u001b[0;34m=\u001b[0m \u001b[0mself\u001b[0m\u001b[0;34m.\u001b[0m\u001b[0mastype\u001b[0m\u001b[0;34m(\u001b[0m\u001b[0mobject\u001b[0m\u001b[0;34m)\u001b[0m\u001b[0;34m.\u001b[0m\u001b[0mvalues\u001b[0m\u001b[0;34m\u001b[0m\u001b[0;34m\u001b[0m\u001b[0m\n\u001b[0;32m-> 3848\u001b[0;31m                 \u001b[0mmapped\u001b[0m \u001b[0;34m=\u001b[0m \u001b[0mlib\u001b[0m\u001b[0;34m.\u001b[0m\u001b[0mmap_infer\u001b[0m\u001b[0;34m(\u001b[0m\u001b[0mvalues\u001b[0m\u001b[0;34m,\u001b[0m \u001b[0mf\u001b[0m\u001b[0;34m,\u001b[0m \u001b[0mconvert\u001b[0m\u001b[0;34m=\u001b[0m\u001b[0mconvert_dtype\u001b[0m\u001b[0;34m)\u001b[0m\u001b[0;34m\u001b[0m\u001b[0;34m\u001b[0m\u001b[0m\n\u001b[0m\u001b[1;32m   3849\u001b[0m \u001b[0;34m\u001b[0m\u001b[0m\n\u001b[1;32m   3850\u001b[0m         \u001b[0;32mif\u001b[0m \u001b[0mlen\u001b[0m\u001b[0;34m(\u001b[0m\u001b[0mmapped\u001b[0m\u001b[0;34m)\u001b[0m \u001b[0;32mand\u001b[0m \u001b[0misinstance\u001b[0m\u001b[0;34m(\u001b[0m\u001b[0mmapped\u001b[0m\u001b[0;34m[\u001b[0m\u001b[0;36m0\u001b[0m\u001b[0;34m]\u001b[0m\u001b[0;34m,\u001b[0m \u001b[0mSeries\u001b[0m\u001b[0;34m)\u001b[0m\u001b[0;34m:\u001b[0m\u001b[0;34m\u001b[0m\u001b[0;34m\u001b[0m\u001b[0m\n",
            "\u001b[0;32mpandas/_libs/lib.pyx\u001b[0m in \u001b[0;36mpandas._libs.lib.map_infer\u001b[0;34m()\u001b[0m\n",
            "\u001b[0;32m<ipython-input-12-2aa05f1c1d4f>\u001b[0m in \u001b[0;36m<lambda>\u001b[0;34m(seller)\u001b[0m\n\u001b[1;32m      2\u001b[0m \u001b[0;34m\u001b[0m\u001b[0m\n\u001b[1;32m      3\u001b[0m missing_price =(df_diff[missing_price_mask]['price']\n\u001b[0;32m----> 4\u001b[0;31m         \u001b[0;34m.\u001b[0m\u001b[0mapply\u001b[0m\u001b[0;34m(\u001b[0m\u001b[0;32mlambda\u001b[0m \u001b[0mseller\u001b[0m\u001b[0;34m:\u001b[0m \u001b[0mlist\u001b[0m\u001b[0;34m(\u001b[0m\u001b[0mseller\u001b[0m\u001b[0;34m)\u001b[0m\u001b[0;34m)\u001b[0m\u001b[0;34m\u001b[0m\u001b[0;34m\u001b[0m\u001b[0m\n\u001b[0m\u001b[1;32m      5\u001b[0m         \u001b[0;34m.\u001b[0m\u001b[0mapply\u001b[0m\u001b[0;34m(\u001b[0m\u001b[0;32mlambda\u001b[0m \u001b[0mletters\u001b[0m\u001b[0;34m:\u001b[0m \u001b[0mlist\u001b[0m\u001b[0;34m(\u001b[0m\u001b[0mmap\u001b[0m\u001b[0;34m(\u001b[0m\u001b[0;32mlambda\u001b[0m \u001b[0mletter\u001b[0m\u001b[0;34m:\u001b[0m \u001b[0mletter\u001b[0m\u001b[0;34m.\u001b[0m\u001b[0mreplace\u001b[0m\u001b[0;34m(\u001b[0m\u001b[0;34m'n'\u001b[0m\u001b[0;34m,\u001b[0m \u001b[0;34m''\u001b[0m\u001b[0;34m)\u001b[0m\u001b[0;34m,\u001b[0m \u001b[0mletters\u001b[0m\u001b[0;34m)\u001b[0m\u001b[0;34m)\u001b[0m\u001b[0;34m)\u001b[0m\u001b[0;34m\u001b[0m\u001b[0;34m\u001b[0m\u001b[0m\n\u001b[1;32m      6\u001b[0m         \u001b[0;34m.\u001b[0m\u001b[0mapply\u001b[0m\u001b[0;34m(\u001b[0m\u001b[0;32mlambda\u001b[0m \u001b[0mletters\u001b[0m\u001b[0;34m:\u001b[0m \u001b[0mlist\u001b[0m\u001b[0;34m(\u001b[0m\u001b[0mmap\u001b[0m\u001b[0;34m(\u001b[0m\u001b[0;32mlambda\u001b[0m \u001b[0mletter\u001b[0m\u001b[0;34m:\u001b[0m \u001b[0mletter\u001b[0m\u001b[0;34m.\u001b[0m\u001b[0mreplace\u001b[0m\u001b[0;34m(\u001b[0m\u001b[0;34m'$'\u001b[0m\u001b[0;34m,\u001b[0m \u001b[0;34m' '\u001b[0m\u001b[0;34m)\u001b[0m\u001b[0;34m,\u001b[0m \u001b[0mletters\u001b[0m\u001b[0;34m)\u001b[0m\u001b[0;34m)\u001b[0m\u001b[0;34m)\u001b[0m\u001b[0;34m\u001b[0m\u001b[0;34m\u001b[0m\u001b[0m\n",
            "\u001b[0;31mTypeError\u001b[0m: 'float' object is not iterable"
          ]
        }
      ]
    },
    {
      "cell_type": "markdown",
      "metadata": {
        "id": "Vc560funb6ha",
        "colab_type": "text"
      },
      "source": [
        "# **Validando dataframe**"
      ]
    },
    {
      "cell_type": "code",
      "metadata": {
        "id": "vDLGGeadBPGn",
        "colab_type": "code",
        "outputId": "fb786bf8-c24b-4cb6-8e1d-6a01e6971bc6",
        "colab": {
          "base_uri": "https://localhost:8080/",
          "height": 318
        }
      },
      "source": [
        "#contar en numero de filas de la columna marca\n",
        "row_count_branks = df_diff.index.stop\n",
        "\n",
        "#contar el numero de datos por columna y crear nuevo dataframe\n",
        "df_count_data = pd.DataFrame(df_diff.count(axis=0) , columns=['amount_data'])\n",
        "\n",
        "#Validar porcentaje de datos\n",
        "percentage_serie =[round(item/row_count_branks*100,2) for item in df_count_data['amount_data']]\n",
        "percentage_error = list(pd.Series([100]* len(df_count_data.index)) - pd.Series(percentage_serie))\n",
        "\n",
        "#agregar columnas al dataset\n",
        "df_count_data['percentage'] = percentage_serie\n",
        "df_count_data['percentage_error'] = percentage_error\n",
        "\n",
        "#Ordenar por porcentaje de error\n",
        "df_count_data.sort_values(by='percentage_error',ascending=False)\n"
      ],
      "execution_count": 13,
      "outputs": [
        {
          "output_type": "execute_result",
          "data": {
            "text/html": [
              "<div>\n",
              "<style scoped>\n",
              "    .dataframe tbody tr th:only-of-type {\n",
              "        vertical-align: middle;\n",
              "    }\n",
              "\n",
              "    .dataframe tbody tr th {\n",
              "        vertical-align: top;\n",
              "    }\n",
              "\n",
              "    .dataframe thead th {\n",
              "        text-align: right;\n",
              "    }\n",
              "</style>\n",
              "<table border=\"1\" class=\"dataframe\">\n",
              "  <thead>\n",
              "    <tr style=\"text-align: right;\">\n",
              "      <th></th>\n",
              "      <th>amount_data</th>\n",
              "      <th>percentage</th>\n",
              "      <th>percentage_error</th>\n",
              "    </tr>\n",
              "  </thead>\n",
              "  <tbody>\n",
              "    <tr>\n",
              "      <th>opinions</th>\n",
              "      <td>106</td>\n",
              "      <td>77.37</td>\n",
              "      <td>22.63</td>\n",
              "    </tr>\n",
              "    <tr>\n",
              "      <th>average_opinions</th>\n",
              "      <td>106</td>\n",
              "      <td>77.37</td>\n",
              "      <td>22.63</td>\n",
              "    </tr>\n",
              "    <tr>\n",
              "      <th>color</th>\n",
              "      <td>111</td>\n",
              "      <td>81.02</td>\n",
              "      <td>18.98</td>\n",
              "    </tr>\n",
              "    <tr>\n",
              "      <th>brank</th>\n",
              "      <td>132</td>\n",
              "      <td>96.35</td>\n",
              "      <td>3.65</td>\n",
              "    </tr>\n",
              "    <tr>\n",
              "      <th>price</th>\n",
              "      <td>132</td>\n",
              "      <td>96.35</td>\n",
              "      <td>3.65</td>\n",
              "    </tr>\n",
              "    <tr>\n",
              "      <th>title</th>\n",
              "      <td>137</td>\n",
              "      <td>100.00</td>\n",
              "      <td>0.00</td>\n",
              "    </tr>\n",
              "    <tr>\n",
              "      <th>raw_description</th>\n",
              "      <td>137</td>\n",
              "      <td>100.00</td>\n",
              "      <td>0.00</td>\n",
              "    </tr>\n",
              "    <tr>\n",
              "      <th>seller</th>\n",
              "      <td>137</td>\n",
              "      <td>100.00</td>\n",
              "      <td>0.00</td>\n",
              "    </tr>\n",
              "    <tr>\n",
              "      <th>url</th>\n",
              "      <td>137</td>\n",
              "      <td>100.00</td>\n",
              "      <td>0.00</td>\n",
              "    </tr>\n",
              "  </tbody>\n",
              "</table>\n",
              "</div>"
            ],
            "text/plain": [
              "                  amount_data  percentage  percentage_error\n",
              "opinions                  106       77.37             22.63\n",
              "average_opinions          106       77.37             22.63\n",
              "color                     111       81.02             18.98\n",
              "brank                     132       96.35              3.65\n",
              "price                     132       96.35              3.65\n",
              "title                     137      100.00              0.00\n",
              "raw_description           137      100.00              0.00\n",
              "seller                    137      100.00              0.00\n",
              "url                       137      100.00              0.00"
            ]
          },
          "metadata": {
            "tags": []
          },
          "execution_count": 13
        }
      ]
    },
    {
      "cell_type": "code",
      "metadata": {
        "id": "EWMTBu2chsy9",
        "colab_type": "code",
        "outputId": "b8487226-8072-46e9-8bb9-bda4330d6762",
        "colab": {
          "base_uri": "https://localhost:8080/",
          "height": 285
        }
      },
      "source": [
        "#Graficar analisis\n",
        "%matplotlib inline\n",
        "import matplotlib.pyplot as plt\n",
        "import numpy as np\n",
        "from matplotlib import cm\n",
        "from matplotlib.colors import ListedColormap, LinearSegmentedColormap\n",
        "\n",
        "df_count_data[['percentage','percentage_error']].plot()"
      ],
      "execution_count": 14,
      "outputs": [
        {
          "output_type": "execute_result",
          "data": {
            "text/plain": [
              "<matplotlib.axes._subplots.AxesSubplot at 0x7f4c5002de10>"
            ]
          },
          "metadata": {
            "tags": []
          },
          "execution_count": 14
        },
        {
          "output_type": "display_data",
          "data": {
            "image/png": "[encoded data removed]",
            "text/plain": [
              "<Figure size 432x288 with 1 Axes>"
            ]
          },
          "metadata": {
            "tags": [],
            "needs_background": "light"
          }
        }
      ]
    },
    {
      "cell_type": "code",
      "metadata": {
        "id": "83Lv3ndP8tW1",
        "colab_type": "code",
        "colab": {}
      },
      "source": [
        "\n",
        "cmap = ListedColormap([ \"green\", \"red\"])\n",
        "linestyles = ['-', '-', '--', '-.', ':']\n",
        "plot=df_count_data[['percentage','percentage_error']].plot(\n",
        "    grid=True,\n",
        "    title='Data Capture Results',\n",
        "    use_index=True, \n",
        "    style=linestyles,\n",
        "    xticks= np.arange(start=1, stop=10, step=1),\n",
        "    yticks= np.arange(start=1, stop=100, step=5),\n",
        "    xlim=[0,8],\n",
        "    ylim=[0,100],\n",
        "    rot=90,\n",
        "    fontsize= 10,\n",
        "    colormap=cmap\n",
        ")\n",
        "print('Colormaps: {}'.format(plt.colormaps()))\n"
      ],
      "execution_count": 0,
      "outputs": []
    },
    {
      "cell_type": "markdown",
      "metadata": {
        "id": "RyzeYodtG4dj",
        "colab_type": "text"
      },
      "source": [
        "# Analisis Color"
      ]
    },
    {
      "cell_type": "markdown",
      "metadata": {
        "id": "p9PFeUsyG4Tk",
        "colab_type": "text"
      },
      "source": [
        ""
      ]
    },
    {
      "cell_type": "code",
      "metadata": {
        "id": "-_0eNKk_0-nI",
        "colab_type": "code",
        "outputId": "98be66ff-da40-434e-dfc1-26d05c01b5ab",
        "colab": {
          "base_uri": "https://localhost:8080/",
          "height": 180
        }
      },
      "source": [
        "#optener columnas con error superior al 10%\n",
        "mask = df_count_data[df_count_data['percentage_error'] > 10].index\n",
        "\n",
        "#agregar url\n",
        "mask = list(mask)\n",
        "mask.append('url')\n",
        "\n",
        "#filtar NaN\n",
        "t=df_diff[mask].isna()\n",
        "mask_nan_color =df_diff['color'].isna()\n",
        "list(df_diff[mask_nan_color]['url'])[:10]"
      ],
      "execution_count": 15,
      "outputs": [
        {
          "output_type": "execute_result",
          "data": {
            "text/plain": [
              "['http://www.alkosto.com/celular-xiaomi-redmi-8a-32gb-negro',\n",
              " 'http://www.alkosto.com/iphone-11-pro-max-64-gb-gris-espacial',\n",
              " 'http://www.alkosto.com/iphone-11-pro-64-gb-gris-espacial',\n",
              " 'http://www.alkosto.com/iphone-11-pro-64-gb-de-en-verde-noche',\n",
              " 'http://www.alkosto.com/iphone-11-64-gb-en-amarillo',\n",
              " 'http://www.alkosto.com/iphone-11-64-gb-en-negro',\n",
              " 'http://www.alkosto.com/iphone-11-64-gb-en-verde',\n",
              " 'http://www.alkosto.com/iphone-11-pro-max-256-gb-de-en-verde-noche',\n",
              " 'http://www.alkosto.com/iphone-11-pro-64-gb-plata',\n",
              " 'http://www.alkosto.com/iphone-11-128-gb-en-negro']"
            ]
          },
          "metadata": {
            "tags": []
          },
          "execution_count": 15
        }
      ]
    },
    {
      "cell_type": "markdown",
      "metadata": {
        "id": "7DOfXvCxHBUi",
        "colab_type": "text"
      },
      "source": [
        "Al validar los enlaces se evidencia que este dato no siempre viene en los articulos, la pagina no nos ofrece una estructura estable para optener esta información directamentamente, se debe buscar una nueva estrategia para la captura de este dato."
      ]
    },
    {
      "cell_type": "code",
      "metadata": {
        "id": "d16aHZZAElap",
        "colab_type": "code",
        "outputId": "84b2bed3-6ffa-4f16-faca-50316186d29e",
        "colab": {
          "base_uri": "https://localhost:8080/",
          "height": 358
        }
      },
      "source": [
        "#filtar NaN\n",
        "mask_nan_comments =df_diff['opinions'].isna()\n",
        "list(df_diff[mask_nan_comments]['url'])[10:110]"
      ],
      "execution_count": 16,
      "outputs": [
        {
          "output_type": "execute_result",
          "data": {
            "text/plain": [
              "['http://www.alkosto.com/celular-samsung-galaxy-zflip-256gb-negro-mirror-black-galaxy-buds-plus-negro',\n",
              " 'http://www.alkosto.com/combo-celular-huawei-y7p-64gb-negro-midnight-black-audifono-am61',\n",
              " 'http://www.alkosto.com/combo-celular-huawei-p40-pro-256gb-azul-deep-sea-blue-freebus-3-y9-prime',\n",
              " 'http://www.alkosto.com/iphone-11-pro-64-gb-oro',\n",
              " 'http://www.alkosto.com/celular-lg-k61-128gb-blanco',\n",
              " 'http://www.alkosto.com/celular-samsung-galaxy-note-10-plus-ds-256-gb-plateado-1',\n",
              " 'http://www.alkosto.com/celular-iphone-xs-512gb-4g-plata',\n",
              " 'http://www.alkosto.com/iphone-11-pro-max-256-gb-gris-espacial',\n",
              " 'http://www.alkosto.com/celular-lg-k61-128gb-gris',\n",
              " 'http://www.alkosto.com/celular-samsung-galaxy-note-10-plus-ds-256-gb-blanco-1',\n",
              " 'http://www.alkosto.com/celular-iphone-xs-max-512gb-4g-plata',\n",
              " 'http://www.alkosto.com/iphone-11-pro-max-64-gb-oro',\n",
              " 'http://www.alkosto.com/celular-samsung-galaxy-fold-512gb-plateado',\n",
              " 'http://www.alkosto.com/celular-lg-k41s-32gb-negro',\n",
              " 'http://www.alkosto.com/celular-samsung-galaxy-note-10-ds-256-gb-rosado-1',\n",
              " 'http://www.alkosto.com/iphone-11-pro-256-gb-gris-espacial',\n",
              " 'http://www.alkosto.com/celular-motorola-one-macro-64gb-morado-purpurina',\n",
              " 'http://www.alkosto.com/iphone-11-pro-max-64-gb-de-en-verde-noche',\n",
              " 'http://www.alkosto.com/celular-lg-k51s-64gb-gris',\n",
              " 'http://www.alkosto.com/celular-lg-k41s-32gb-gris',\n",
              " 'http://www.alkosto.com/celular-samsung-galaxy-m31-128gb-negro-cover-azul']"
            ]
          },
          "metadata": {
            "tags": []
          },
          "execution_count": 16
        }
      ]
    },
    {
      "cell_type": "markdown",
      "metadata": {
        "id": "lhSKl0C-KZgq",
        "colab_type": "text"
      },
      "source": [
        "Se evidencia que los articulos no cuantan con opiniones, pero se evidencia accesorios y otros tipos de articulos que no corresponden con celulares, se corrige el enlace principal con ayuda de filtros de pagina\n"
      ]
    },
    {
      "cell_type": "code",
      "metadata": {
        "id": "ofKkLIFKAYth",
        "colab_type": "code",
        "outputId": "b48889d3-366e-4e9b-aa56-24207e87133d",
        "colab": {
          "base_uri": "https://localhost:8080/",
          "height": 399
        }
      },
      "source": [
        "mask_nan_comments =df_diff['average_opinions'].isna()\n",
        "list(df_diff[mask_nan_comments]['url'])[10:110]"
      ],
      "execution_count": 17,
      "outputs": [
        {
          "output_type": "execute_result",
          "data": {
            "text/plain": [
              "['http://www.alkosto.com/celular-samsung-galaxy-zflip-256gb-negro-mirror-black-galaxy-buds-plus-negro',\n",
              " 'http://www.alkosto.com/combo-celular-huawei-y7p-64gb-negro-midnight-black-audifono-am61',\n",
              " 'http://www.alkosto.com/combo-celular-huawei-p40-pro-256gb-azul-deep-sea-blue-freebus-3-y9-prime',\n",
              " 'http://www.alkosto.com/iphone-11-pro-64-gb-oro',\n",
              " 'http://www.alkosto.com/celular-lg-k61-128gb-blanco',\n",
              " 'http://www.alkosto.com/celular-samsung-galaxy-note-10-plus-ds-256-gb-plateado-1',\n",
              " 'http://www.alkosto.com/celular-iphone-xs-512gb-4g-plata',\n",
              " 'http://www.alkosto.com/iphone-11-pro-max-256-gb-gris-espacial',\n",
              " 'http://www.alkosto.com/celular-lg-k61-128gb-gris',\n",
              " 'http://www.alkosto.com/celular-samsung-galaxy-note-10-plus-ds-256-gb-blanco-1',\n",
              " 'http://www.alkosto.com/celular-iphone-xs-max-512gb-4g-plata',\n",
              " 'http://www.alkosto.com/iphone-11-pro-max-64-gb-oro',\n",
              " 'http://www.alkosto.com/celular-samsung-galaxy-fold-512gb-plateado',\n",
              " 'http://www.alkosto.com/celular-lg-k41s-32gb-negro',\n",
              " 'http://www.alkosto.com/celular-samsung-galaxy-note-10-ds-256-gb-rosado-1',\n",
              " 'http://www.alkosto.com/iphone-11-pro-256-gb-gris-espacial',\n",
              " 'http://www.alkosto.com/celular-motorola-one-macro-64gb-morado-purpurina',\n",
              " 'http://www.alkosto.com/iphone-11-pro-max-64-gb-de-en-verde-noche',\n",
              " 'http://www.alkosto.com/celular-lg-k51s-64gb-gris',\n",
              " 'http://www.alkosto.com/celular-lg-k41s-32gb-gris',\n",
              " 'http://www.alkosto.com/celular-samsung-galaxy-m31-128gb-negro-cover-azul']"
            ]
          },
          "metadata": {
            "tags": []
          },
          "execution_count": 17
        }
      ]
    },
    {
      "cell_type": "code",
      "metadata": {
        "id": "kJs7J0Y9Lczd",
        "colab_type": "code",
        "outputId": "b7f97e0f-c5c6-46bb-9026-c9d931197f1e",
        "colab": {
          "base_uri": "https://localhost:8080/",
          "height": 735
        }
      },
      "source": [
        "mask_nan_comments =df_diff['seller'].isna()\n",
        "list(df_diff[mask_nan_comments]['url'])[10:110]\n",
        "df_diff"
      ],
      "execution_count": 22,
      "outputs": [
        {
          "output_type": "execute_result",
          "data": {
            "text/html": [
              "<div>\n",
              "<style scoped>\n",
              "    .dataframe tbody tr th:only-of-type {\n",
              "        vertical-align: middle;\n",
              "    }\n",
              "\n",
              "    .dataframe tbody tr th {\n",
              "        vertical-align: top;\n",
              "    }\n",
              "\n",
              "    .dataframe thead th {\n",
              "        text-align: right;\n",
              "    }\n",
              "</style>\n",
              "<table border=\"1\" class=\"dataframe\">\n",
              "  <thead>\n",
              "    <tr style=\"text-align: right;\">\n",
              "      <th></th>\n",
              "      <th>title</th>\n",
              "      <th>brank</th>\n",
              "      <th>price</th>\n",
              "      <th>color</th>\n",
              "      <th>opinions</th>\n",
              "      <th>average_opinions</th>\n",
              "      <th>raw_description</th>\n",
              "      <th>seller</th>\n",
              "      <th>url</th>\n",
              "    </tr>\n",
              "  </thead>\n",
              "  <tbody>\n",
              "    <tr>\n",
              "      <th>0</th>\n",
              "      <td>Celular XIAOMI REDMI 8A 32GB Negro</td>\n",
              "      <td>419900.0</td>\n",
              "      <td>419900.0</td>\n",
              "      <td>NaN</td>\n",
              "      <td>2.0</td>\n",
              "      <td>5.0</td>\n",
              "      <td>\\n\\nEl potente 8A te brindará un rendimiento ó...</td>\n",
              "      <td>Alkosto</td>\n",
              "      <td>http://www.alkosto.com/celular-xiaomi-redmi-8a...</td>\n",
              "    </tr>\n",
              "    <tr>\n",
              "      <th>1</th>\n",
              "      <td>Celular XIAOMI REDMI Note 8 Pro 128GB Verde</td>\n",
              "      <td>1399900.0</td>\n",
              "      <td>1399900.0</td>\n",
              "      <td>Verde</td>\n",
              "      <td>2.0</td>\n",
              "      <td>5.0</td>\n",
              "      <td>\\n\\nXiaomi con su Note 8 Pro quiere que recuer...</td>\n",
              "      <td>Alkosto</td>\n",
              "      <td>http://www.alkosto.com/celular-xiaomi-redmi-no...</td>\n",
              "    </tr>\n",
              "    <tr>\n",
              "      <th>2</th>\n",
              "      <td>Celular MOTOROLA G8 Plus 64GB Rojo</td>\n",
              "      <td>749900.0</td>\n",
              "      <td>749900.0</td>\n",
              "      <td>Bateria Recargable Interna</td>\n",
              "      <td>133.0</td>\n",
              "      <td>5.0</td>\n",
              "      <td>\\n\\nTodo nuevo para ti.\\nSensor 48 MPX + Night...</td>\n",
              "      <td>Alkosto</td>\n",
              "      <td>http://www.alkosto.com/celular-motorola-g8-plu...</td>\n",
              "    </tr>\n",
              "    <tr>\n",
              "      <th>3</th>\n",
              "      <td>iPhone 7 32GB Negro Mate</td>\n",
              "      <td>1499000.0</td>\n",
              "      <td>1499000.0</td>\n",
              "      <td>Negro</td>\n",
              "      <td>65.0</td>\n",
              "      <td>5.0</td>\n",
              "      <td>\\n\\niPhone 7Pantalla: 4.7 HD RetinaCámara: 12 ...</td>\n",
              "      <td>Alkosto</td>\n",
              "      <td>http://www.alkosto.com/iphone-7-32gb-negro-mate</td>\n",
              "    </tr>\n",
              "    <tr>\n",
              "      <th>4</th>\n",
              "      <td>Celular MOTOROLA ONE HYPER 128GB Azul</td>\n",
              "      <td>1349900.0</td>\n",
              "      <td>1349900.0</td>\n",
              "      <td>Azul</td>\n",
              "      <td>5.0</td>\n",
              "      <td>4.0</td>\n",
              "      <td>\\n\\nCaptura increíbles detalles aún con poca l...</td>\n",
              "      <td>Alkosto</td>\n",
              "      <td>http://www.alkosto.com/celular-motorola-one-hy...</td>\n",
              "    </tr>\n",
              "    <tr>\n",
              "      <th>...</th>\n",
              "      <td>...</td>\n",
              "      <td>...</td>\n",
              "      <td>...</td>\n",
              "      <td>...</td>\n",
              "      <td>...</td>\n",
              "      <td>...</td>\n",
              "      <td>...</td>\n",
              "      <td>...</td>\n",
              "      <td>...</td>\n",
              "    </tr>\n",
              "    <tr>\n",
              "      <th>132</th>\n",
              "      <td>Celular ASUS Zenfone Max M2 32G 4G Negro</td>\n",
              "      <td>469900.0</td>\n",
              "      <td>469900.0</td>\n",
              "      <td>Negro</td>\n",
              "      <td>43.0</td>\n",
              "      <td>5.0</td>\n",
              "      <td>\\n                            El nuevo ZenFone...</td>\n",
              "      <td>Alkosto</td>\n",
              "      <td>http://www.alkosto.com/celular-asus-zenfone-m2...</td>\n",
              "    </tr>\n",
              "    <tr>\n",
              "      <th>133</th>\n",
              "      <td>Celular iPhone XS Max 64 GB 4G Plata</td>\n",
              "      <td>4749000.0</td>\n",
              "      <td>4749000.0</td>\n",
              "      <td>NaN</td>\n",
              "      <td>1.0</td>\n",
              "      <td>5.0</td>\n",
              "      <td>\\n\\nBienvenido a la pantalla más grande en un ...</td>\n",
              "      <td>Alkosto</td>\n",
              "      <td>http://www.alkosto.com/celular-iphone-xs-max-6...</td>\n",
              "    </tr>\n",
              "    <tr>\n",
              "      <th>134</th>\n",
              "      <td>Celular SAMSUNG GaLaxy A51 - 128GB Azul</td>\n",
              "      <td>1299900.0</td>\n",
              "      <td>1299900.0</td>\n",
              "      <td>Bateria Recargable Interna</td>\n",
              "      <td>4.0</td>\n",
              "      <td>5.0</td>\n",
              "      <td>\\n\\nDisfruta del mejor contenido con el displa...</td>\n",
              "      <td>Alkosto</td>\n",
              "      <td>http://www.alkosto.com/celular-samsung-galaxy-...</td>\n",
              "    </tr>\n",
              "    <tr>\n",
              "      <th>135</th>\n",
              "      <td>Celular XIAOMI REDMI Note 8 Pro 128GB Gris</td>\n",
              "      <td>1399900.0</td>\n",
              "      <td>1399900.0</td>\n",
              "      <td>Gris</td>\n",
              "      <td>2.0</td>\n",
              "      <td>5.0</td>\n",
              "      <td>\\n\\nXiaomi con su Note 8 Pro quiere que recuer...</td>\n",
              "      <td>Alkosto</td>\n",
              "      <td>http://www.alkosto.com/celular-xiaomi-redmi-no...</td>\n",
              "    </tr>\n",
              "    <tr>\n",
              "      <th>136</th>\n",
              "      <td>iPhone 11 128 GB en rojo</td>\n",
              "      <td>3689000.0</td>\n",
              "      <td>3689000.0</td>\n",
              "      <td>NaN</td>\n",
              "      <td>9.0</td>\n",
              "      <td>5.0</td>\n",
              "      <td>\\n\\nEl nuevo iPhone 11 tiene un sistema de dos...</td>\n",
              "      <td>Alkosto</td>\n",
              "      <td>http://www.alkosto.com/iphone-11-128-gb-en-rojo</td>\n",
              "    </tr>\n",
              "  </tbody>\n",
              "</table>\n",
              "<p>137 rows × 9 columns</p>\n",
              "</div>"
            ],
            "text/plain": [
              "                                           title  ...                                                url\n",
              "0             Celular XIAOMI REDMI 8A 32GB Negro  ...  http://www.alkosto.com/celular-xiaomi-redmi-8a...\n",
              "1    Celular XIAOMI REDMI Note 8 Pro 128GB Verde  ...  http://www.alkosto.com/celular-xiaomi-redmi-no...\n",
              "2             Celular MOTOROLA G8 Plus 64GB Rojo  ...  http://www.alkosto.com/celular-motorola-g8-plu...\n",
              "3                       iPhone 7 32GB Negro Mate  ...    http://www.alkosto.com/iphone-7-32gb-negro-mate\n",
              "4          Celular MOTOROLA ONE HYPER 128GB Azul  ...  http://www.alkosto.com/celular-motorola-one-hy...\n",
              "..                                           ...  ...                                                ...\n",
              "132     Celular ASUS Zenfone Max M2 32G 4G Negro  ...  http://www.alkosto.com/celular-asus-zenfone-m2...\n",
              "133         Celular iPhone XS Max 64 GB 4G Plata  ...  http://www.alkosto.com/celular-iphone-xs-max-6...\n",
              "134      Celular SAMSUNG GaLaxy A51 - 128GB Azul  ...  http://www.alkosto.com/celular-samsung-galaxy-...\n",
              "135   Celular XIAOMI REDMI Note 8 Pro 128GB Gris  ...  http://www.alkosto.com/celular-xiaomi-redmi-no...\n",
              "136                     iPhone 11 128 GB en rojo  ...    http://www.alkosto.com/iphone-11-128-gb-en-rojo\n",
              "\n",
              "[137 rows x 9 columns]"
            ]
          },
          "metadata": {
            "tags": []
          },
          "execution_count": 22
        }
      ]
    },
    {
      "cell_type": "markdown",
      "metadata": {
        "id": "ce5PtppWL10p",
        "colab_type": "text"
      },
      "source": [
        "Se evidencia que los productos no cuentan con informacion del vendedor. pero algunos estan comentados, se aprueba este feature el cual nos puede dar informacion relevante acerca de este tipo de vendedores"
      ]
    }
  ]
}